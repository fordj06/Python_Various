{
  "nbformat": 4,
  "nbformat_minor": 0,
  "metadata": {
    "colab": {
      "name": "Untitled7.ipynb",
      "version": "0.3.2",
      "provenance": [],
      "include_colab_link": true
    },
    "kernelspec": {
      "name": "python3",
      "display_name": "Python 3"
    }
  },
  "cells": [
    {
      "cell_type": "markdown",
      "metadata": {
        "id": "view-in-github",
        "colab_type": "text"
      },
      "source": [
        "<a href=\"https://colab.research.google.com/github/fordj06/Python_Various/blob/master/practicalAI_L4.ipynb\" target=\"_parent\"><img src=\"https://colab.research.google.com/assets/colab-badge.svg\" alt=\"Open In Colab\"/></a>"
      ]
    },
    {
      "metadata": {
        "id": "NrFrn04gYJ38",
        "colab_type": "text"
      },
      "cell_type": "markdown",
      "source": [
        "# Linear Regression \n",
        "In this notebook we will try to understand the basic math behind linear regression and then implement it in Python.  \n",
        "\n",
        "<img src=\"https://raw.githubusercontent.com/GokuMohandas/practicalAI/master/images/linear.png\" width=250>\n",
        "\n",
        "$\\hat{y} = XW$\n",
        "\n",
        "*Where*\n",
        "\n",
        "$\\hat{y} =$ prediction | $\\in \\mathbb{R}^{NX1}$ ($N$ is the number of samples)\n",
        "\n",
        "$X$ = inputs | $\\in \\mathbb{R}^{NXD}$ ($D$ is the number of features)\n",
        "\n",
        " $W$ = weights | $\\in \\mathbb{R}^{DX1}$ \n",
        "\n",
        "\n",
        "\n"
      ]
    },
    {
      "metadata": {
        "id": "TC9XoWUWZbw8",
        "colab_type": "text"
      },
      "cell_type": "markdown",
      "source": [
        "We can use inputs $X$ to predict the output $\\hat{y}$ using a linear model. The model will be a line of best fit that minimizes the distance between the predicted and target outcomes. Training data, $X,y$, is used to train the model and learn the weights $W$ using stochastic gradient descent (SDG)."
      ]
    },
    {
      "metadata": {
        "id": "kEIHg_GcaUwc",
        "colab_type": "text"
      },
      "cell_type": "markdown",
      "source": [
        "## Training\n",
        "\n",
        "1. Randomly initialize the models weights.\n",
        "2. Feed inputs $X$ into the model to receive the predictions $\\hat{y}$. \n",
        "3. Compare the predictions witht the actual target values using the objective function to determine the loss $J$. A common obkective function for linear regression is the mean squarred error (MSE). The function calculates the difference between the predicted and target values and squares it. \n",
        "\n",
        "$MSE = J(\\theta) = \\frac{1}{2}\\sum_{i}(\\hat{y}_i - y_i)^2$\n",
        "\n",
        "4. Calculate the gradient of loss $J(\\theta)$ w.r.t to the model weights: \n",
        "\n",
        "$J(\\theta) = \\frac{1}{2}\\sum_{i}(\\hat{y}_i - y_i)^2 = \\frac{1}{2}\\sum_{i}(X_iW - y_i)^2 $\n",
        " \n",
        " $\\frac{\\partial{J}}{\\partial{W}} = X(\\hat{y} - y)$\n",
        "\n",
        "5. Apply backpropagation to update the weights $W$ using a learning rate $\\alpha$ and an optimization technique (e.g. stochastic gradient descent). The simplified intuition is that the gradient tells you the direction for how to increase something so subtracting it will help you go the other way since we want to decrease loss $J(\\theta)$:\n",
        " \n",
        "$W = W- \\alpha\\frac{\\partial{J}}{\\partial{W}}$\n",
        "6. Repeat steps 2 - 5 until the model performs well."
      ]
    },
    {
      "metadata": {
        "id": "4pb0zUWicKXx",
        "colab_type": "text"
      },
      "cell_type": "markdown",
      "source": [
        "## Data \n",
        "\n",
        "Were going to create some simple dummy data to apply linear regression on. "
      ]
    },
    {
      "metadata": {
        "id": "CRD9LrCmdFCh",
        "colab_type": "code",
        "colab": {}
      },
      "cell_type": "code",
      "source": [
        "from argparse import Namespace\n",
        "import matplotlib.pyplot as plt\n",
        "import numpy as np\n",
        "import pandas as pd"
      ],
      "execution_count": 0,
      "outputs": []
    },
    {
      "metadata": {
        "id": "LK-EhbWidLOf",
        "colab_type": "code",
        "colab": {}
      },
      "cell_type": "code",
      "source": [
        "# Arguments\n",
        "args = Namespace (\n",
        "    seed=1234,\n",
        "    data_file=\"sample_data.csv\",\n",
        "    num_samples=100,\n",
        "    train_size=0.75,\n",
        "    test_size=0.25,\n",
        "    num_epochs=100,\n",
        ")\n",
        "\n",
        "# Set seed for reproducability\n",
        "np.random.seed(args.seed)"
      ],
      "execution_count": 0,
      "outputs": []
    },
    {
      "metadata": {
        "id": "sbXIUQIheBBw",
        "colab_type": "code",
        "colab": {}
      },
      "cell_type": "code",
      "source": [
        "# Generate the data\n",
        "def generate_data(num_samples) :\n",
        "  X = np.array(range(num_samples))\n",
        "  random_noise = np.random.uniform(-10, 10, size=num_samples)\n",
        "  y = 3.65 * X + 10 + random_noise       # Add some noise\n",
        "  return X, y"
      ],
      "execution_count": 0,
      "outputs": []
    },
    {
      "metadata": {
        "id": "2LAfl4TGeut1",
        "colab_type": "code",
        "colab": {
          "base_uri": "https://localhost:8080/",
          "height": 206
        },
        "outputId": "87bd2cf9-e42d-423a-fbc9-955b3b514110"
      },
      "cell_type": "code",
      "source": [
        "# Generate random (linear) data \n",
        "X, y = generate_data(args.num_samples)\n",
        "data = np.vstack([X, y]) .T\n",
        "df = pd.DataFrame(data, columns=['X', 'y'])\n",
        "df.head()"
      ],
      "execution_count": 20,
      "outputs": [
        {
          "output_type": "execute_result",
          "data": {
            "text/html": [
              "<div>\n",
              "<style scoped>\n",
              "    .dataframe tbody tr th:only-of-type {\n",
              "        vertical-align: middle;\n",
              "    }\n",
              "\n",
              "    .dataframe tbody tr th {\n",
              "        vertical-align: top;\n",
              "    }\n",
              "\n",
              "    .dataframe thead th {\n",
              "        text-align: right;\n",
              "    }\n",
              "</style>\n",
              "<table border=\"1\" class=\"dataframe\">\n",
              "  <thead>\n",
              "    <tr style=\"text-align: right;\">\n",
              "      <th></th>\n",
              "      <th>X</th>\n",
              "      <th>y</th>\n",
              "    </tr>\n",
              "  </thead>\n",
              "  <tbody>\n",
              "    <tr>\n",
              "      <th>0</th>\n",
              "      <td>0.0</td>\n",
              "      <td>17.679023</td>\n",
              "    </tr>\n",
              "    <tr>\n",
              "      <th>1</th>\n",
              "      <td>1.0</td>\n",
              "      <td>18.477211</td>\n",
              "    </tr>\n",
              "    <tr>\n",
              "      <th>2</th>\n",
              "      <td>2.0</td>\n",
              "      <td>17.614216</td>\n",
              "    </tr>\n",
              "    <tr>\n",
              "      <th>3</th>\n",
              "      <td>3.0</td>\n",
              "      <td>13.655037</td>\n",
              "    </tr>\n",
              "    <tr>\n",
              "      <th>4</th>\n",
              "      <td>4.0</td>\n",
              "      <td>15.397673</td>\n",
              "    </tr>\n",
              "  </tbody>\n",
              "</table>\n",
              "</div>"
            ],
            "text/plain": [
              "     X          y\n",
              "0  0.0  17.679023\n",
              "1  1.0  18.477211\n",
              "2  2.0  17.614216\n",
              "3  3.0  13.655037\n",
              "4  4.0  15.397673"
            ]
          },
          "metadata": {
            "tags": []
          },
          "execution_count": 20
        }
      ]
    },
    {
      "metadata": {
        "id": "s5zDDAmcfMGg",
        "colab_type": "code",
        "colab": {
          "base_uri": "https://localhost:8080/",
          "height": 362
        },
        "outputId": "129c4df4-d9e3-45be-e0b6-467b3d532405"
      },
      "cell_type": "code",
      "source": [
        "# Scatter plot \n",
        "plt.title(\"Generated data\")\n",
        "plt.scatter(x=df[\"X\"], y=df[\"y\"])\n",
        "plt.show()"
      ],
      "execution_count": 21,
      "outputs": [
        {
          "output_type": "display_data",
          "data": {
            "image/png": "[encoded data removed]",
            "text/plain": [
              "<matplotlib.figure.Figure at 0x7f7b404bdc88>"
            ]
          },
          "metadata": {
            "tags": []
          }
        }
      ]
    },
    {
      "metadata": {
        "id": "4L4s056DiKmE",
        "colab_type": "text"
      },
      "cell_type": "markdown",
      "source": [
        "## SciKit-Learn Implementation\n",
        "\n",
        "**Note**: The `LinearRegression` class in Scikit-learn uses the normal equation to solve the fit. However, we are going to use Scikit-learn's `SGDRegressor` class which uses stochastic gradient descent. We want to use this optimization approach because we will be using this for the models in subsequent lessons."
      ]
    },
    {
      "metadata": {
        "id": "9383VFMvflYs",
        "colab_type": "code",
        "colab": {}
      },
      "cell_type": "code",
      "source": [
        "# Import packages\n",
        "from sklearn.linear_model.stochastic_gradient import SGDRegressor\n",
        "from sklearn.preprocessing import StandardScaler\n",
        "from sklearn.model_selection import train_test_split"
      ],
      "execution_count": 0,
      "outputs": []
    },
    {
      "metadata": {
        "id": "D7x8UDYji64T",
        "colab_type": "code",
        "colab": {
          "base_uri": "https://localhost:8080/",
          "height": 91
        },
        "outputId": "b1e75444-f484-4f5a-8601-39c26ca4a224"
      },
      "cell_type": "code",
      "source": [
        "# Creating the data splits \n",
        "X_train, X_test, y_train, y_test = train_test_split (\n",
        "  df[\"X\"].values.reshape(-1,1), df[\"y\"], test_size=args.test_size,\n",
        "  random_state=args.seed)\n",
        "\n",
        "print(\"X_train:\", X_train.shape)\n",
        "print(\"y_train:\", y_train.shape)\n",
        "print(\"X_test:\", X_test.shape)\n",
        "print(\"y_test:\", y_test.shape)"
      ],
      "execution_count": 23,
      "outputs": [
        {
          "output_type": "stream",
          "text": [
            "X_train: (75, 1)\n",
            "y_train: (75,)\n",
            "X_test: (25, 1)\n",
            "y_test: (25,)\n"
          ],
          "name": "stdout"
        }
      ]
    },
    {
      "metadata": {
        "id": "M6qtihfkpdMH",
        "colab_type": "text"
      },
      "cell_type": "markdown",
      "source": [
        "We need to standardize our data (zero mean unit varience) in order to properly use SGD and optimize quickly."
      ]
    },
    {
      "metadata": {
        "id": "A0xX5YPGpLp3",
        "colab_type": "code",
        "colab": {
          "base_uri": "https://localhost:8080/",
          "height": 54
        },
        "outputId": "4320a7b2-4ba0-4ab0-b0cb-348310bea78e"
      },
      "cell_type": "code",
      "source": [
        "# Standardize the data using training data\n",
        "X_scaler = StandardScaler() .fit(X_train)\n",
        "y_scaler = StandardScaler() .fit(y_train.values.reshape(-1,1))\n",
        "\n",
        "# Apply scaler on training and test data\n",
        "standardized_X_train = X_scaler.transform(X_train)\n",
        "standardized_y_train = y_scaler.transform(y_train.values.reshape(-1,1)).ravel()\n",
        "standardized_X_test = X_scaler.transform(X_test)\n",
        "standardized_y_test = y_scaler.transform(y_test.values.reshape(-1,1)).ravel()\n",
        "\n",
        "\n",
        "# Check\n",
        "print (\"mean:\", np.mean(standardized_X_train, axis=0), \n",
        "       np.mean(standardized_y_train, axis=0)) # mean should be ~0\n",
        "print (\"std:\", np.std(standardized_X_train, axis=0), \n",
        "       np.std(standardized_y_train, axis=0))   # std should be 1"
      ],
      "execution_count": 24,
      "outputs": [
        {
          "output_type": "stream",
          "text": [
            "mean: [8.22952817e-17] -1.7115938296304497e-17\n",
            "std: [1.] 1.0\n"
          ],
          "name": "stdout"
        }
      ]
    },
    {
      "metadata": {
        "id": "4boUqFr5qZ34",
        "colab_type": "code",
        "colab": {}
      },
      "cell_type": "code",
      "source": [
        "# Initialize the model \n",
        "lm = SGDRegressor(loss=\"squared_loss\", penalty=\"none\", max_iter=args.num_epochs)"
      ],
      "execution_count": 0,
      "outputs": []
    },
    {
      "metadata": {
        "id": "JkK9vE6eq67c",
        "colab_type": "code",
        "colab": {
          "base_uri": "https://localhost:8080/",
          "height": 186
        },
        "outputId": "f060c89d-ffc5-4ec4-8344-1b33f213fd99"
      },
      "cell_type": "code",
      "source": [
        "# Train \n",
        "lm.fit(X=standardized_X_train, y=standardized_y_train)"
      ],
      "execution_count": 27,
      "outputs": [
        {
          "output_type": "stream",
          "text": [
            "/usr/local/lib/python3.6/dist-packages/sklearn/linear_model/stochastic_gradient.py:183: FutureWarning: max_iter and tol parameters have been added in SGDRegressor in 0.19. If max_iter is set but tol is left unset, the default value for tol in 0.19 and 0.20 will be None (which is equivalent to -infinity, so it has no effect) but will change in 0.21 to 1e-3. Specify tol to silence this warning.\n",
            "  FutureWarning)\n"
          ],
          "name": "stderr"
        },
        {
          "output_type": "execute_result",
          "data": {
            "text/plain": [
              "SGDRegressor(alpha=0.0001, average=False, early_stopping=False, epsilon=0.1,\n",
              "       eta0=0.01, fit_intercept=True, l1_ratio=0.15,\n",
              "       learning_rate='invscaling', loss='squared_loss', max_iter=100,\n",
              "       n_iter=None, n_iter_no_change=5, penalty='none', power_t=0.25,\n",
              "       random_state=None, shuffle=True, tol=None, validation_fraction=0.1,\n",
              "       verbose=0, warm_start=False)"
            ]
          },
          "metadata": {
            "tags": []
          },
          "execution_count": 27
        }
      ]
    },
    {
      "metadata": {
        "id": "viTULjK8rQyh",
        "colab_type": "code",
        "colab": {}
      },
      "cell_type": "code",
      "source": [
        "# Predictions (unstandardize them)\n",
        "pred_train = (lm.predict(standardized_X_train) * np.sqrt(y_scaler.var_)) + y_scaler.mean_\n",
        "pred_test = (lm.predict(standardized_X_test) * np.sqrt(y_scaler.var_)) + y_scaler.mean_"
      ],
      "execution_count": 0,
      "outputs": []
    },
    {
      "metadata": {
        "id": "A-r83IHcr1up",
        "colab_type": "text"
      },
      "cell_type": "markdown",
      "source": [
        "## Evaluation\n",
        "\n",
        "There are several techniques to see how well our model performed."
      ]
    },
    {
      "metadata": {
        "id": "oMlw5zwdreQO",
        "colab_type": "code",
        "colab": {}
      },
      "cell_type": "code",
      "source": [
        "import matplotlib.pyplot as plt"
      ],
      "execution_count": 0,
      "outputs": []
    },
    {
      "metadata": {
        "id": "hEMyBHVMsFfo",
        "colab_type": "code",
        "colab": {
          "base_uri": "https://localhost:8080/",
          "height": 36
        },
        "outputId": "d8e4f09c-5466-42a7-9028-73a65b5f5965"
      },
      "cell_type": "code",
      "source": [
        "# Train and test MSE \n",
        "train_mse = np.mean((y_train - pred_train) ** 2)\n",
        "test_mse = np.mean((y_test - pred_test) ** 2)\n",
        "\n",
        "print(\"train_MSE: {0:.2f}, test_MSE: {1:.2f}\".format(train_mse, test_mse))"
      ],
      "execution_count": 30,
      "outputs": [
        {
          "output_type": "stream",
          "text": [
            "train_MSE: 40.38, test_MSE: 30.60\n"
          ],
          "name": "stdout"
        }
      ]
    },
    {
      "metadata": {
        "id": "TvCEWGkStEL1",
        "colab_type": "text"
      },
      "cell_type": "markdown",
      "source": [
        "Besides MSE, when we only have one feature, we can visually inspect the element."
      ]
    },
    {
      "metadata": {
        "id": "hb4uKq-GsySU",
        "colab_type": "code",
        "colab": {
          "base_uri": "https://localhost:8080/",
          "height": 355
        },
        "outputId": "3b5fbc82-cc81-4f8a-a5a1-64067b2672a9"
      },
      "cell_type": "code",
      "source": [
        "# Figure size\n",
        "plt.figure(figsize=(15,5))\n",
        "\n",
        "# Plot train data\n",
        "plt.subplot(1, 2, 1)\n",
        "plt.title(\"Train\")\n",
        "plt.scatter(X_train, y_train, label=\"y_train\")\n",
        "plt.plot(X_train, pred_train, color=\"red\", linewidth=1, linestyle=\"-\", label=\"lm\")\n",
        "plt.legend(loc='lower right')\n",
        "\n",
        "# Plot test data\n",
        "plt.subplot(1, 2, 2)\n",
        "plt.title(\"Test\")\n",
        "plt.scatter(X_test, y_test, label=\"y_test\")\n",
        "plt.plot(X_test, pred_test, color=\"red\", linewidth=1, linestyle=\"-\", label=\"lm\")\n",
        "plt.legend(loc='lower right')\n",
        "\n",
        "# Show plots\n",
        "plt.show()"
      ],
      "execution_count": 31,
      "outputs": [
        {
          "output_type": "display_data",
          "data": {
            "image/png": "[encoded data removed]",
            "text/plain": [
              "<matplotlib.figure.Figure at 0x7f7b3c9936d8>"
            ]
          },
          "metadata": {
            "tags": []
          }
        }
      ]
    },
    {
      "metadata": {
        "id": "iZu-51g0tSgV",
        "colab_type": "code",
        "colab": {}
      },
      "cell_type": "code",
      "source": [
        ""
      ],
      "execution_count": 0,
      "outputs": []
    }
  ]
}
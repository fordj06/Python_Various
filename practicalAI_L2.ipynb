{
  "nbformat": 4,
  "nbformat_minor": 0,
  "metadata": {
    "colab": {
      "name": "Untitled1.ipynb",
      "version": "0.3.2",
      "provenance": [],
      "include_colab_link": true
    },
    "kernelspec": {
      "name": "python3",
      "display_name": "Python 3"
    }
  },
  "cells": [
    {
      "cell_type": "markdown",
      "metadata": {
        "id": "view-in-github",
        "colab_type": "text"
      },
      "source": [
        "<a href=\"https://colab.research.google.com/github/fordj06/Python_Various/blob/master/practicalAI_L2.ipynb\" target=\"_parent\"><img src=\"https://colab.research.google.com/assets/colab-badge.svg\" alt=\"Open In Colab\"/></a>"
      ]
    },
    {
      "metadata": {
        "id": "5iNzF_H2fi2_",
        "colab_type": "text"
      },
      "cell_type": "markdown",
      "source": [
        "## NumPy Basics"
      ]
    },
    {
      "metadata": {
        "id": "zMaT2SK7Njll",
        "colab_type": "code",
        "colab": {}
      },
      "cell_type": "code",
      "source": [
        "import numpy as np"
      ],
      "execution_count": 0,
      "outputs": []
    },
    {
      "metadata": {
        "id": "ohEQS6TpepAU",
        "colab_type": "code",
        "colab": {}
      },
      "cell_type": "code",
      "source": [
        "# set seed for reproducability \n",
        "np.random.seed(seed=1234)"
      ],
      "execution_count": 0,
      "outputs": []
    },
    {
      "metadata": {
        "id": "ml5oaAJFeyjG",
        "colab_type": "code",
        "colab": {
          "base_uri": "https://localhost:8080/",
          "height": 110
        },
        "outputId": "4f6219da-4655-4068-f1c3-7e097f648422"
      },
      "cell_type": "code",
      "source": [
        "# Scalars\n",
        "x = np.array(6) # scalar\n",
        "print(\"x: \", x)\n",
        "print(\"x ndim: \", x.ndim)\n",
        "print(\"x shape: \", x.shape)\n",
        "print(\"x size: \", x.size)\n",
        "print(\"x dtype: \", x.dtype)"
      ],
      "execution_count": 3,
      "outputs": [
        {
          "output_type": "stream",
          "text": [
            "x:  6\n",
            "x ndim:  0\n",
            "x shape:  ()\n",
            "x size:  1\n",
            "x dtype:  int64\n"
          ],
          "name": "stdout"
        }
      ]
    },
    {
      "metadata": {
        "id": "NY9f6A4kfN50",
        "colab_type": "code",
        "colab": {
          "base_uri": "https://localhost:8080/",
          "height": 110
        },
        "outputId": "ca342ca9-faa3-4c25-80e4-a93c655562f5"
      },
      "cell_type": "code",
      "source": [
        "# 1-D Array \n",
        "x = np.array([1.3, 2.2, 1.7])\n",
        "print(\"x: \", x)\n",
        "print(\"x ndim: \", x.ndim)\n",
        "print(\"x shape: \", x.shape)\n",
        "print(\"x size: \", x.size)\n",
        "print(\"x dtype: \", x.dtype)"
      ],
      "execution_count": 4,
      "outputs": [
        {
          "output_type": "stream",
          "text": [
            "x:  [1.3 2.2 1.7]\n",
            "x ndim:  1\n",
            "x shape:  (3,)\n",
            "x size:  3\n",
            "x dtype:  float64\n"
          ],
          "name": "stdout"
        }
      ]
    },
    {
      "metadata": {
        "id": "B7wR8AWcfdUL",
        "colab_type": "code",
        "colab": {
          "base_uri": "https://localhost:8080/",
          "height": 166
        },
        "outputId": "a4ae8381-b51d-4afa-b676-ad130243165a"
      },
      "cell_type": "code",
      "source": [
        "# 3-D array (matrix)\n",
        "x = np.array([[1,2,3], [4,5,6], [7,8,9]])\n",
        "print (\"x:\\n\", x)\n",
        "print(\"x ndim: \", x.ndim)\n",
        "print(\"x shape:\", x.shape)\n",
        "print(\"x size: \", x.size)\n",
        "print (\"x dtype: \", x.dtype)\n"
      ],
      "execution_count": 5,
      "outputs": [
        {
          "output_type": "stream",
          "text": [
            "x:\n",
            " [[1 2 3]\n",
            " [4 5 6]\n",
            " [7 8 9]]\n",
            "x ndim:  2\n",
            "x shape: (3, 3)\n",
            "x size:  9\n",
            "x dtype:  int64\n"
          ],
          "name": "stdout"
        }
      ]
    },
    {
      "metadata": {
        "id": "3sc5OzQLf-iR",
        "colab_type": "code",
        "colab": {
          "base_uri": "https://localhost:8080/",
          "height": 240
        },
        "outputId": "525037f2-774e-4cec-ba44-b0ad56191468"
      },
      "cell_type": "code",
      "source": [
        "# Functions\n",
        "print(\"np.zeros((2,2)):\\n\", np.zeros((2,2)))\n",
        "print(\"np.ones((2,2)):\\n\", np.ones((2,2)))\n",
        "print(\"np.eye((2)):\\n\", np.eye((2)))\n",
        "print(\"np.random.random((2,2)):\\n\", np.random.random((2,2)))"
      ],
      "execution_count": 6,
      "outputs": [
        {
          "output_type": "stream",
          "text": [
            "np.zeros((2,2)):\n",
            " [[0. 0.]\n",
            " [0. 0.]]\n",
            "np.ones((2,2)):\n",
            " [[1. 1.]\n",
            " [1. 1.]]\n",
            "np.eye((2)):\n",
            " [[1. 0.]\n",
            " [0. 1.]]\n",
            "np.random.random((2,2)):\n",
            " [[0.19151945 0.62210877]\n",
            " [0.43772774 0.78535858]]\n"
          ],
          "name": "stdout"
        }
      ]
    },
    {
      "metadata": {
        "id": "PG-XAQX3g7eD",
        "colab_type": "text"
      },
      "cell_type": "markdown",
      "source": [
        "## Indexing"
      ]
    },
    {
      "metadata": {
        "id": "vTijGaJpg9cV",
        "colab_type": "code",
        "colab": {
          "base_uri": "https://localhost:8080/",
          "height": 54
        },
        "outputId": "52816047-3c7a-4565-f3e3-3deb8217dbce"
      },
      "cell_type": "code",
      "source": [
        "# Indexing \n",
        "x = np.array([1,2,3])\n",
        "print(\"x[0]: \", x[0])\n",
        "x[0] = 0\n",
        "print(\"x: \", x)"
      ],
      "execution_count": 7,
      "outputs": [
        {
          "output_type": "stream",
          "text": [
            "x[0]:  1\n",
            "x:  [0 2 3]\n"
          ],
          "name": "stdout"
        }
      ]
    },
    {
      "metadata": {
        "id": "qZty1FwohpQo",
        "colab_type": "code",
        "colab": {
          "base_uri": "https://localhost:8080/",
          "height": 184
        },
        "outputId": "ec69508d-ba2d-4917-b527-6a4a3b04cc1b"
      },
      "cell_type": "code",
      "source": [
        "# Slicing \n",
        "x = np.array([[1,2,3,4], [5,6,7,8], [9,10,11,12]])\n",
        "print(x)\n",
        "print(\"x cloumn 1: \", x[:, 1])\n",
        "print(\"x row 0: \", x[0, :])\n",
        "print(\"x rows 0,1,2 & cols 1,2: \\n\", x[:3, 1:3])"
      ],
      "execution_count": 8,
      "outputs": [
        {
          "output_type": "stream",
          "text": [
            "[[ 1  2  3  4]\n",
            " [ 5  6  7  8]\n",
            " [ 9 10 11 12]]\n",
            "x cloumn 1:  [ 2  6 10]\n",
            "x row 0:  [1 2 3 4]\n",
            "x rows 0,1,2 & cols 1,2: \n",
            " [[ 2  3]\n",
            " [ 6  7]\n",
            " [10 11]]\n"
          ],
          "name": "stdout"
        }
      ]
    },
    {
      "metadata": {
        "id": "kxL7RX1HinXe",
        "colab_type": "code",
        "colab": {
          "base_uri": "https://localhost:8080/",
          "height": 128
        },
        "outputId": "d6554d38-9fad-4d6c-b220-546a33f48895"
      },
      "cell_type": "code",
      "source": [
        "# integer array indexing\n",
        "print(x)\n",
        "rows_to_get = np.arange(len(x))\n",
        "print(\"rows to get: \", rows_to_get)\n",
        "cols_to_get = np.array([0,2,1])\n",
        "print(\"cols to get: \", cols_to_get)\n",
        "print(\"indexed vals: \", x[rows_to_get, cols_to_get])"
      ],
      "execution_count": 9,
      "outputs": [
        {
          "output_type": "stream",
          "text": [
            "[[ 1  2  3  4]\n",
            " [ 5  6  7  8]\n",
            " [ 9 10 11 12]]\n",
            "rows to get:  [0 1 2]\n",
            "cols to get:  [0 2 1]\n",
            "indexed vals:  [ 1  7 10]\n"
          ],
          "name": "stdout"
        }
      ]
    },
    {
      "metadata": {
        "id": "tlWyymHljSrL",
        "colab_type": "code",
        "colab": {
          "base_uri": "https://localhost:8080/",
          "height": 203
        },
        "outputId": "437e7dea-d1f1-4cbe-fd7f-a54dd585f2f8"
      },
      "cell_type": "code",
      "source": [
        "# boolean array indexing \n",
        "x = np.array([[1,2], [3,4], [5,6]])\n",
        "print(\"x:\\n\", x)\n",
        "print(\"x > 2:\\n\", x>2)\n",
        "print(\"x[x > 2]:\\n\", x[x>2])  #What values are greater than 2?"
      ],
      "execution_count": 10,
      "outputs": [
        {
          "output_type": "stream",
          "text": [
            "x:\n",
            " [[1 2]\n",
            " [3 4]\n",
            " [5 6]]\n",
            "x > 2:\n",
            " [[False False]\n",
            " [ True  True]\n",
            " [ True  True]]\n",
            "x[x > 2]:\n",
            " [3 4 5 6]\n"
          ],
          "name": "stdout"
        }
      ]
    },
    {
      "metadata": {
        "id": "tHMJTkf3kPaQ",
        "colab_type": "text"
      },
      "cell_type": "markdown",
      "source": [
        "## Array math"
      ]
    },
    {
      "metadata": {
        "id": "kG2LDbdckRA8",
        "colab_type": "code",
        "colab": {
          "base_uri": "https://localhost:8080/",
          "height": 184
        },
        "outputId": "2dccb8fc-c402-4915-f977-995f902f5b84"
      },
      "cell_type": "code",
      "source": [
        "# Basic math\n",
        "x = np.array([[1,2], [3,4]], dtype=np.float64)\n",
        "y = np.array([[1,2], [3,4]], dtype=np.float64)\n",
        "\n",
        "print(\"x + y = \\n\", np.add(x,y))\n",
        "print(\"x - y =\\n\", np.subtract(x,y))\n",
        "print(\"x * y =\\n\", np.multiply(x,y))"
      ],
      "execution_count": 11,
      "outputs": [
        {
          "output_type": "stream",
          "text": [
            "x + y = \n",
            " [[2. 4.]\n",
            " [6. 8.]]\n",
            "x - y =\n",
            " [[0. 0.]\n",
            " [0. 0.]]\n",
            "x * y =\n",
            " [[ 1.  4.]\n",
            " [ 9. 16.]]\n"
          ],
          "name": "stdout"
        }
      ]
    },
    {
      "metadata": {
        "id": "ZCo1ha1MlVcb",
        "colab_type": "code",
        "colab": {
          "base_uri": "https://localhost:8080/",
          "height": 54
        },
        "outputId": "a5c7d516-afdc-46c1-b2b6-f0250046501c"
      },
      "cell_type": "code",
      "source": [
        "# Dot product \n",
        "a = np.array([[1,2,3], [4,5,6]], dtype=np.float64)\n",
        "b = np.array([[7,8], [9,10], [11,12]], dtype=np.float64)\n",
        "print(a.dot(b))"
      ],
      "execution_count": 12,
      "outputs": [
        {
          "output_type": "stream",
          "text": [
            "[[ 58.  64.]\n",
            " [139. 154.]]\n"
          ],
          "name": "stdout"
        }
      ]
    },
    {
      "metadata": {
        "id": "00JueIXBmIKm",
        "colab_type": "code",
        "colab": {
          "base_uri": "https://localhost:8080/",
          "height": 110
        },
        "outputId": "c28d97b6-40c1-4f19-bf75-f02fd8a71435"
      },
      "cell_type": "code",
      "source": [
        "# sum across a dimension \n",
        "x = np.array([[1,2], [3,4]])\n",
        "print(x)\n",
        "print(\"sum all: \", np.sum(x))    #adds all elements\n",
        "print(\"sum by col: \", np.sum(x, axis=0))\n",
        "print(\"sum by row: \", np.sum(x, axis=1))"
      ],
      "execution_count": 13,
      "outputs": [
        {
          "output_type": "stream",
          "text": [
            "[[1 2]\n",
            " [3 4]]\n",
            "sum all:  10\n",
            "sum by col:  [4 6]\n",
            "sum by row:  [3 7]\n"
          ],
          "name": "stdout"
        }
      ]
    },
    {
      "metadata": {
        "id": "pbv1RUH6nYTq",
        "colab_type": "code",
        "colab": {
          "base_uri": "https://localhost:8080/",
          "height": 128
        },
        "outputId": "ef8f4de8-47c6-4ed3-fece-0e5022817267"
      },
      "cell_type": "code",
      "source": [
        "# Transposing\n",
        "print(\"x:\\n\", x)\n",
        "print(\"x.T: \\n\", x.T)"
      ],
      "execution_count": 14,
      "outputs": [
        {
          "output_type": "stream",
          "text": [
            "x:\n",
            " [[1 2]\n",
            " [3 4]]\n",
            "x.T: \n",
            " [[1 3]\n",
            " [2 4]]\n"
          ],
          "name": "stdout"
        }
      ]
    },
    {
      "metadata": {
        "id": "voenKRFPoP0m",
        "colab_type": "text"
      },
      "cell_type": "markdown",
      "source": [
        "## Advanced"
      ]
    },
    {
      "metadata": {
        "id": "3DsWj-jdoRXU",
        "colab_type": "code",
        "colab": {
          "base_uri": "https://localhost:8080/",
          "height": 128
        },
        "outputId": "b287db36-8c6e-425b-ed0a-a76342351144"
      },
      "cell_type": "code",
      "source": [
        "# Tile\n",
        "x = np.array([[1,2], [3,4]])\n",
        "y = np.array([5,6])\n",
        "addent = np.tile(y, (len(x), 1))\n",
        "print(\"addent: \\n\", addent)\n",
        "z = x + addent\n",
        "print(\"z:\\n\", z)"
      ],
      "execution_count": 15,
      "outputs": [
        {
          "output_type": "stream",
          "text": [
            "addent: \n",
            " [[5 6]\n",
            " [5 6]]\n",
            "z:\n",
            " [[ 6  8]\n",
            " [ 8 10]]\n"
          ],
          "name": "stdout"
        }
      ]
    },
    {
      "metadata": {
        "id": "0bP_qnHTox0W",
        "colab_type": "code",
        "colab": {
          "base_uri": "https://localhost:8080/",
          "height": 73
        },
        "outputId": "2a54e308-1bb2-496f-82b1-157cfd77a2b5"
      },
      "cell_type": "code",
      "source": [
        "# broadcasting \n",
        "x = np.array([[1,2], [3,4]])\n",
        "y = np.array([5,6])\n",
        "z = x + y\n",
        "print(\"z:\\n\", z)"
      ],
      "execution_count": 16,
      "outputs": [
        {
          "output_type": "stream",
          "text": [
            "z:\n",
            " [[ 6  8]\n",
            " [ 8 10]]\n"
          ],
          "name": "stdout"
        }
      ]
    },
    {
      "metadata": {
        "id": "BI6s4spqpNYq",
        "colab_type": "code",
        "colab": {
          "base_uri": "https://localhost:8080/",
          "height": 166
        },
        "outputId": "20bf2bb7-54bf-4358-cf1c-0b20d4e3d946"
      },
      "cell_type": "code",
      "source": [
        "# Reshaping \n",
        "x = np.array([[1,2], [3,4], [5,6]])\n",
        "print(x)\n",
        "print(\"x shape: \", x.shape)\n",
        "\n",
        "y = np.reshape(x, (2,3))\n",
        "print(\"y shape: \", y.shape)\n",
        "print(\"y: \\n\", y)"
      ],
      "execution_count": 19,
      "outputs": [
        {
          "output_type": "stream",
          "text": [
            "[[1 2]\n",
            " [3 4]\n",
            " [5 6]]\n",
            "x shape:  (3, 2)\n",
            "y shape:  (2, 3)\n",
            "y: \n",
            " [[1 2 3]\n",
            " [4 5 6]]\n"
          ],
          "name": "stdout"
        }
      ]
    },
    {
      "metadata": {
        "id": "pJj5fhyFqZgr",
        "colab_type": "code",
        "colab": {
          "base_uri": "https://localhost:8080/",
          "height": 184
        },
        "outputId": "f694699b-c948-4a4c-f194-1381457bdbb8"
      },
      "cell_type": "code",
      "source": [
        "# Removing dimensions\n",
        "x = np.array([[[1,2,1]],[[2,2,3]]])\n",
        "print(\" x shape: \", x.shape)\n",
        "print(\"x: \\n\", x)\n",
        "y = np.squeeze(x, 1)\n",
        "print(\"y shape: \", y.shape)\n",
        "print(\"y: \\n\", y)"
      ],
      "execution_count": 21,
      "outputs": [
        {
          "output_type": "stream",
          "text": [
            " x shape:  (2, 1, 3)\n",
            "x: \n",
            " [[[1 2 1]]\n",
            "\n",
            " [[2 2 3]]]\n",
            "y shape:  (2, 3)\n",
            "y: \n",
            " [[1 2 1]\n",
            " [2 2 3]]\n"
          ],
          "name": "stdout"
        }
      ]
    },
    {
      "metadata": {
        "id": "JFQXaBczrYO2",
        "colab_type": "code",
        "colab": {
          "base_uri": "https://localhost:8080/",
          "height": 128
        },
        "outputId": "45c41beb-1308-4283-bd73-b6e503a4b171"
      },
      "cell_type": "code",
      "source": [
        "# adding dimesions\n",
        "x = np.array([[1,2,1],[2,2,3]])\n",
        "print(\"x shape: \", x.shape)\n",
        "\n",
        "y = np.expand_dims(x, 1)\n",
        "print(\"y shape: \", y.shape)\n",
        "print(\"y: \\n\", y)"
      ],
      "execution_count": 22,
      "outputs": [
        {
          "output_type": "stream",
          "text": [
            "x shape:  (2, 3)\n",
            "y shape:  (2, 1, 3)\n",
            "y: \n",
            " [[[1 2 1]]\n",
            "\n",
            " [[2 2 3]]]\n"
          ],
          "name": "stdout"
        }
      ]
    },
    {
      "metadata": {
        "id": "u5OX1lHYr7UM",
        "colab_type": "code",
        "colab": {}
      },
      "cell_type": "code",
      "source": [
        ""
      ],
      "execution_count": 0,
      "outputs": []
    }
  ]
}
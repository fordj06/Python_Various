{
  "nbformat": 4,
  "nbformat_minor": 0,
  "metadata": {
    "colab": {
      "name": "Untitled0.ipynb",
      "version": "0.3.2",
      "provenance": [],
      "include_colab_link": true
    },
    "kernelspec": {
      "name": "python3",
      "display_name": "Python 3"
    }
  },
  "cells": [
    {
      "cell_type": "markdown",
      "metadata": {
        "id": "view-in-github",
        "colab_type": "text"
      },
      "source": [
        "<a href=\"https://colab.research.google.com/github/fordj06/Python_Various/blob/master/Untitled0.ipynb\" target=\"_parent\"><img src=\"https://colab.research.google.com/assets/colab-badge.svg\" alt=\"Open In Colab\"/></a>"
      ]
    },
    {
      "metadata": {
        "id": "kRnXJRQUCGb8",
        "colab_type": "text"
      },
      "cell_type": "markdown",
      "source": [
        "# Lists"
      ]
    },
    {
      "metadata": {
        "id": "qtV8cGbOBh1h",
        "colab_type": "text"
      },
      "cell_type": "markdown",
      "source": [
        "## making a list"
      ]
    },
    {
      "metadata": {
        "id": "GILMZ_Uv451S",
        "colab_type": "code",
        "colab": {
          "base_uri": "https://localhost:8080/",
          "height": 36
        },
        "outputId": "0d8bd526-e9b4-42d6-dfbd-70cc47d6a076"
      },
      "cell_type": "code",
      "source": [
        "# making a list \n",
        "listX = [3, \"hello\", 1]\n",
        "print(listX)"
      ],
      "execution_count": 3,
      "outputs": [
        {
          "output_type": "stream",
          "text": [
            "[3, 'hello', 1]\n"
          ],
          "name": "stdout"
        }
      ]
    },
    {
      "metadata": {
        "id": "mNYxfn0NBnmb",
        "colab_type": "text"
      },
      "cell_type": "markdown",
      "source": [
        "## adding to a list"
      ]
    },
    {
      "metadata": {
        "id": "z1_H2APF9izF",
        "colab_type": "code",
        "colab": {
          "base_uri": "https://localhost:8080/",
          "height": 36
        },
        "outputId": "259e094c-5c71-44ef-8f94-7389e206c30b"
      },
      "cell_type": "code",
      "source": [
        "# adding to a list \n",
        "listX.append(7)\n",
        "print(listX)"
      ],
      "execution_count": 4,
      "outputs": [
        {
          "output_type": "stream",
          "text": [
            "[3, 'hello', 1, 7]\n"
          ],
          "name": "stdout"
        }
      ]
    },
    {
      "metadata": {
        "id": "wOCtISM2Buyz",
        "colab_type": "text"
      },
      "cell_type": "markdown",
      "source": [
        "## Accessing list items at specific locations"
      ]
    },
    {
      "metadata": {
        "id": "bKOn3KYC9uhj",
        "colab_type": "code",
        "colab": {
          "base_uri": "https://localhost:8080/",
          "height": 110
        },
        "outputId": "30bed696-0218-47f7-a78e-9a299cbc50a6"
      },
      "cell_type": "code",
      "source": [
        "# Accessing list items at specific locations \n",
        "print(\"listX[0] :\", listX[0])\n",
        "print(\"listX[1] :\", listX[1])\n",
        "print(\"listX[2] :\", listX[2])\n",
        "print(\"listX[-1] :\", listX[-1])   #the last item\n",
        "print(\"listX[-2] :\", listX[-2])   # second to last item"
      ],
      "execution_count": 5,
      "outputs": [
        {
          "output_type": "stream",
          "text": [
            "listX[0] : 3\n",
            "listX[1] : hello\n",
            "listX[2] : 1\n",
            "listX[-1] : 7\n",
            "listX[-2] : 1\n"
          ],
          "name": "stdout"
        }
      ]
    },
    {
      "metadata": {
        "id": "7KVbAJ3_BzjR",
        "colab_type": "text"
      },
      "cell_type": "markdown",
      "source": [
        "## Slicing"
      ]
    },
    {
      "metadata": {
        "id": "2uAL_uUdAKyo",
        "colab_type": "code",
        "colab": {
          "base_uri": "https://localhost:8080/",
          "height": 91
        },
        "outputId": "d26916e8-2e03-405f-e39c-8bedc3253c0c"
      },
      "cell_type": "code",
      "source": [
        "# List slicing \n",
        "print(listX[:])   # full list\n",
        "print(listX[2:])  # from 2nd to last \n",
        "print(listX[1:3]) # from 1st to 3rd \n",
        "print(listX[:-1]) # all excluding last "
      ],
      "execution_count": 7,
      "outputs": [
        {
          "output_type": "stream",
          "text": [
            "[3, 'hello', 1, 7]\n",
            "[1, 7]\n",
            "['hello', 1]\n",
            "[3, 'hello', 1]\n"
          ],
          "name": "stdout"
        }
      ]
    },
    {
      "metadata": {
        "id": "4SNqT4tuB23i",
        "colab_type": "text"
      },
      "cell_type": "markdown",
      "source": [
        "## Length of list"
      ]
    },
    {
      "metadata": {
        "id": "v9jaV1tkAXCD",
        "colab_type": "code",
        "colab": {
          "base_uri": "https://localhost:8080/",
          "height": 36
        },
        "outputId": "6753581d-b54a-4cb0-b4c1-4c0c4324eab6"
      },
      "cell_type": "code",
      "source": [
        "# length of list \n",
        "len(listX)"
      ],
      "execution_count": 8,
      "outputs": [
        {
          "output_type": "execute_result",
          "data": {
            "text/plain": [
              "4"
            ]
          },
          "metadata": {
            "tags": []
          },
          "execution_count": 8
        }
      ]
    },
    {
      "metadata": {
        "id": "5zy9wm40B6RP",
        "colab_type": "text"
      },
      "cell_type": "markdown",
      "source": [
        "## Replacing list items"
      ]
    },
    {
      "metadata": {
        "id": "69ds6Qd3A3QZ",
        "colab_type": "code",
        "colab": {
          "base_uri": "https://localhost:8080/",
          "height": 36
        },
        "outputId": "486a10a7-6178-46e8-d517-0f09f4efef37"
      },
      "cell_type": "code",
      "source": [
        "#replacing items in a list \n",
        "listX[1] = \"hi\"   # replace the value at index 1 with \"hi\"\n",
        "print(listX)"
      ],
      "execution_count": 9,
      "outputs": [
        {
          "output_type": "stream",
          "text": [
            "[3, 'hi', 1, 7]\n"
          ],
          "name": "stdout"
        }
      ]
    },
    {
      "metadata": {
        "id": "OoLA90ICB8-0",
        "colab_type": "text"
      },
      "cell_type": "markdown",
      "source": [
        "## List concatination"
      ]
    },
    {
      "metadata": {
        "id": "JBX1BPsMBMrJ",
        "colab_type": "code",
        "colab": {
          "base_uri": "https://localhost:8080/",
          "height": 36
        },
        "outputId": "c49cda36-e8c8-4a80-8668-f01a711ba8ab"
      },
      "cell_type": "code",
      "source": [
        "# Combining list's (concatination)\n",
        "listY = [2.4, \"world\"]\n",
        "listZ = listX + listY\n",
        "\n",
        "print(listZ)"
      ],
      "execution_count": 10,
      "outputs": [
        {
          "output_type": "stream",
          "text": [
            "[3, 'hi', 1, 7, 2.4, 'world']\n"
          ],
          "name": "stdout"
        }
      ]
    },
    {
      "metadata": {
        "id": "nTxVYCg4Bdnt",
        "colab_type": "code",
        "colab": {}
      },
      "cell_type": "code",
      "source": [
        ""
      ],
      "execution_count": 0,
      "outputs": []
    },
    {
      "metadata": {
        "id": "zuonTUa2CVJB",
        "colab_type": "text"
      },
      "cell_type": "markdown",
      "source": [
        "# Tuples \n",
        "\n",
        "Tuples are objects in python that can hold data but you cannot replace the values. This is know as an immutable data object"
      ]
    },
    {
      "metadata": {
        "id": "EYeMRLVZCnkq",
        "colab_type": "code",
        "colab": {
          "base_uri": "https://localhost:8080/",
          "height": 36
        },
        "outputId": "9a59cc26-12c4-48a0-ae42-c47ec8b4cdf1"
      },
      "cell_type": "code",
      "source": [
        "# Creating a tuple\n",
        "tupleX = (3.0, \"hello\")\n",
        "print(tupleX)"
      ],
      "execution_count": 16,
      "outputs": [
        {
          "output_type": "stream",
          "text": [
            "(3.0, 'hello')\n"
          ],
          "name": "stdout"
        }
      ]
    },
    {
      "metadata": {
        "id": "CdR-q3vyCxHr",
        "colab_type": "code",
        "colab": {
          "base_uri": "https://localhost:8080/",
          "height": 36
        },
        "outputId": "fbf2717e-5e4b-47c7-8f26-3ed8a4d18918"
      },
      "cell_type": "code",
      "source": [
        "# Adding values to tuples\n",
        "tupleX = tupleX + (5.6,) #NOTE the comma is required\n",
        "print(tupleX)"
      ],
      "execution_count": 17,
      "outputs": [
        {
          "output_type": "stream",
          "text": [
            "(3.0, 'hello', 5.6)\n"
          ],
          "name": "stdout"
        }
      ]
    },
    {
      "metadata": {
        "id": "ZB4HmutODxPo",
        "colab_type": "text"
      },
      "cell_type": "markdown",
      "source": [
        "# Dictionaries\n",
        "\n",
        "Dictionaries are python objects that hold key-value pairs. A dictionary cannot have two of the same key."
      ]
    },
    {
      "metadata": {
        "id": "fuxax_UCEdbG",
        "colab_type": "code",
        "colab": {
          "base_uri": "https://localhost:8080/",
          "height": 73
        },
        "outputId": "e6fc398d-2eb4-4e65-f297-4d5a14a3c980"
      },
      "cell_type": "code",
      "source": [
        "# Creating a dictionary \n",
        "jack = {\"name\": \"Jack\",\n",
        "        \"eye_color\" : \"green\"}\n",
        "print(jack)\n",
        "print(jack[\"name\"])\n",
        "print(jack[\"eye_color\"])"
      ],
      "execution_count": 20,
      "outputs": [
        {
          "output_type": "stream",
          "text": [
            "{'name': 'Jack', 'eye_color': 'green'}\n",
            "Jack\n",
            "green\n"
          ],
          "name": "stdout"
        }
      ]
    },
    {
      "metadata": {
        "id": "u2DojMqLEy53",
        "colab_type": "code",
        "colab": {
          "base_uri": "https://localhost:8080/",
          "height": 36
        },
        "outputId": "14ea674f-4115-4ccb-89ba-eeebe54773b7"
      },
      "cell_type": "code",
      "source": [
        "# changing the valuye of a key\n",
        "jack[\"eye_color\"] = \"black\"\n",
        "print(jack)"
      ],
      "execution_count": 21,
      "outputs": [
        {
          "output_type": "stream",
          "text": [
            "{'name': 'Jack', 'eye_color': 'black'}\n"
          ],
          "name": "stdout"
        }
      ]
    },
    {
      "metadata": {
        "id": "3sCzOg-dFXXQ",
        "colab_type": "code",
        "colab": {
          "base_uri": "https://localhost:8080/",
          "height": 36
        },
        "outputId": "370123e0-11bd-4b7c-8cce-a197046b2d32"
      },
      "cell_type": "code",
      "source": [
        "# Adding a new key-value pair \n",
        "jack[\"age\"] = 23 \n",
        "print(jack)"
      ],
      "execution_count": 22,
      "outputs": [
        {
          "output_type": "stream",
          "text": [
            "{'name': 'Jack', 'eye_color': 'black', 'age': 23}\n"
          ],
          "name": "stdout"
        }
      ]
    },
    {
      "metadata": {
        "id": "2DHmxhFAFh74",
        "colab_type": "code",
        "colab": {
          "base_uri": "https://localhost:8080/",
          "height": 36
        },
        "outputId": "47576924-9959-493e-fd44-4c904d7ba117"
      },
      "cell_type": "code",
      "source": [
        "# length of dictionary (number of key-pairs)\n",
        "print(len(jack))"
      ],
      "execution_count": 23,
      "outputs": [
        {
          "output_type": "stream",
          "text": [
            "3\n"
          ],
          "name": "stdout"
        }
      ]
    },
    {
      "metadata": {
        "id": "w4f2XoLkFsr4",
        "colab_type": "text"
      },
      "cell_type": "markdown",
      "source": [
        "# If statements "
      ]
    },
    {
      "metadata": {
        "id": "FXNAvGVfFwF0",
        "colab_type": "code",
        "colab": {
          "base_uri": "https://localhost:8080/",
          "height": 36
        },
        "outputId": "a38ab55c-097c-48e5-8ae1-478f57f74c39"
      },
      "cell_type": "code",
      "source": [
        "# If statement \n",
        "x = 4\n",
        "if 4 < 1:\n",
        "  score = \"low\"\n",
        "elif x <= 4:\n",
        "  score = \"medium\"\n",
        "else:\n",
        "  score = \"high\"\n",
        "print(score)"
      ],
      "execution_count": 24,
      "outputs": [
        {
          "output_type": "stream",
          "text": [
            "medium\n"
          ],
          "name": "stdout"
        }
      ]
    },
    {
      "metadata": {
        "id": "lZ2UPmB5GV1I",
        "colab_type": "code",
        "colab": {
          "base_uri": "https://localhost:8080/",
          "height": 36
        },
        "outputId": "6236451e-45a0-447a-a9fa-e47060af500c"
      },
      "cell_type": "code",
      "source": [
        "# If statement with boolean \n",
        "x = True\n",
        "if x:\n",
        "  print(\"its TRUE\")\n",
        "else:\n",
        "  print(\"FALSE yo\")"
      ],
      "execution_count": 25,
      "outputs": [
        {
          "output_type": "stream",
          "text": [
            "its TRUE\n"
          ],
          "name": "stdout"
        }
      ]
    },
    {
      "metadata": {
        "id": "RYgvnl9YGn_6",
        "colab_type": "text"
      },
      "cell_type": "markdown",
      "source": [
        "# Loops"
      ]
    },
    {
      "metadata": {
        "id": "EvoADquzGqIK",
        "colab_type": "code",
        "colab": {
          "base_uri": "https://localhost:8080/",
          "height": 73
        },
        "outputId": "2805853e-b0fe-4d90-9e01-51fcaad67cb9"
      },
      "cell_type": "code",
      "source": [
        "# for loop \n",
        "x = 1\n",
        "for i in range(3):\n",
        "  x += 1\n",
        "  print(\"i={0}, x={1}\".format(i, x))"
      ],
      "execution_count": 28,
      "outputs": [
        {
          "output_type": "stream",
          "text": [
            "i=0, x=2\n",
            "i=1, x=3\n",
            "i=2, x=4\n"
          ],
          "name": "stdout"
        }
      ]
    },
    {
      "metadata": {
        "id": "vIj-fwQtHiIH",
        "colab_type": "code",
        "colab": {
          "base_uri": "https://localhost:8080/",
          "height": 73
        },
        "outputId": "76b599d1-4ea2-4e06-80a1-972c621e55d6"
      },
      "cell_type": "code",
      "source": [
        "# looping through a list \n",
        "x = 1\n",
        "for i in [0,1,2] :\n",
        "  x += 1\n",
        "  print(\"i={0}, x={1}\".format(i, x))"
      ],
      "execution_count": 29,
      "outputs": [
        {
          "output_type": "stream",
          "text": [
            "i=0, x=2\n",
            "i=1, x=3\n",
            "i=2, x=4\n"
          ],
          "name": "stdout"
        }
      ]
    },
    {
      "metadata": {
        "id": "sdaPbRV5H9lK",
        "colab_type": "code",
        "colab": {
          "base_uri": "https://localhost:8080/",
          "height": 73
        },
        "outputId": "08cd36f8-7938-43ff-98db-99f410c27f64"
      },
      "cell_type": "code",
      "source": [
        "# while loop \n",
        "x = 3\n",
        "while x > 0:\n",
        "  x -= 1\n",
        "  print(x)"
      ],
      "execution_count": 30,
      "outputs": [
        {
          "output_type": "stream",
          "text": [
            "2\n",
            "1\n",
            "0\n"
          ],
          "name": "stdout"
        }
      ]
    },
    {
      "metadata": {
        "id": "vnJ2OghJIb4X",
        "colab_type": "text"
      },
      "cell_type": "markdown",
      "source": [
        "# Functions"
      ]
    },
    {
      "metadata": {
        "id": "WUPdwRBvIdgW",
        "colab_type": "code",
        "colab": {
          "base_uri": "https://localhost:8080/",
          "height": 36
        },
        "outputId": "d4e6b20f-dde5-43e0-f3a9-d5c6ab3592f0"
      },
      "cell_type": "code",
      "source": [
        "# create a function\n",
        "def add_two(x):\n",
        "  x += 2\n",
        "  return x\n",
        "\n",
        "# use the function\n",
        "score = 0\n",
        "score = add_two(x=score)\n",
        "print(score)"
      ],
      "execution_count": 31,
      "outputs": [
        {
          "output_type": "stream",
          "text": [
            "2\n"
          ],
          "name": "stdout"
        }
      ]
    },
    {
      "metadata": {
        "id": "A0hlUTirI1Q3",
        "colab_type": "code",
        "colab": {
          "base_uri": "https://localhost:8080/",
          "height": 36
        },
        "outputId": "09cef64b-9348-462a-955f-d8a96f01ef2c"
      },
      "cell_type": "code",
      "source": [
        "# function with multiple inputs\n",
        "def join_name(first_name, last_name):\n",
        "  joined_name = first_name + \" \" + last_name\n",
        "  return joined_name\n",
        "\n",
        "#use the function\n",
        "first_name = \"jacko\"\n",
        "last_name = \"wacko\"\n",
        "joined_name = join_name(first_name=first_name, last_name=last_name)\n",
        "print(joined_name)"
      ],
      "execution_count": 32,
      "outputs": [
        {
          "output_type": "stream",
          "text": [
            "jacko wacko\n"
          ],
          "name": "stdout"
        }
      ]
    },
    {
      "metadata": {
        "id": "qIPop4yLJ_7k",
        "colab_type": "text"
      },
      "cell_type": "markdown",
      "source": [
        "# Classes"
      ]
    },
    {
      "metadata": {
        "id": "U6clCr6OKBwW",
        "colab_type": "code",
        "colab": {}
      },
      "cell_type": "code",
      "source": [
        "# create the class\n",
        "class Pets(object):\n",
        "  \n",
        "  # initialize the class\n",
        "  def __init__(self, species, color, name):\n",
        "    self.species = species\n",
        "    self.color = color\n",
        "    self.name = name\n",
        "    \n",
        "  # for printing\n",
        "  def __str__(self):\n",
        "    return \"{0} {1} named {2}.\".format(self.color, self.species, self.name)\n",
        "  \n",
        "  #example function\n",
        "  def change_name(self, new_name):\n",
        "    self.name = new_name"
      ],
      "execution_count": 0,
      "outputs": []
    },
    {
      "metadata": {
        "id": "h_-QneB7LHPo",
        "colab_type": "code",
        "colab": {
          "base_uri": "https://localhost:8080/",
          "height": 54
        },
        "outputId": "62816708-db52-44bf-be2c-6924e24605d2"
      },
      "cell_type": "code",
      "source": [
        "# making an instance of a class \n",
        "my_dog = Pets(species=\"dog\", color=\"black\", name=\"eddy\")\n",
        "print(my_dog)\n",
        "print(my_dog.name)"
      ],
      "execution_count": 35,
      "outputs": [
        {
          "output_type": "stream",
          "text": [
            "black dog named eddy.\n",
            "eddy\n"
          ],
          "name": "stdout"
        }
      ]
    },
    {
      "metadata": {
        "id": "wQRmJtB0LanW",
        "colab_type": "code",
        "colab": {
          "base_uri": "https://localhost:8080/",
          "height": 54
        },
        "outputId": "543e9d47-2df1-45fd-f9e0-062441c827b5"
      },
      "cell_type": "code",
      "source": [
        "# using a classes function\n",
        "my_dog.change_name(new_name=\"billy\")\n",
        "print(my_dog)\n",
        "print(my_dog.name)"
      ],
      "execution_count": 36,
      "outputs": [
        {
          "output_type": "stream",
          "text": [
            "black dog named billy.\n",
            "billy\n"
          ],
          "name": "stdout"
        }
      ]
    },
    {
      "metadata": {
        "id": "IjFe12rJLx-Z",
        "colab_type": "code",
        "colab": {}
      },
      "cell_type": "code",
      "source": [
        ""
      ],
      "execution_count": 0,
      "outputs": []
    }
  ]
}
